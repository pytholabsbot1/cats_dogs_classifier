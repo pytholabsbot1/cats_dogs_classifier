{
  "nbformat": 4,
  "nbformat_minor": 0,
  "metadata": {
    "colab": {
      "name": "trained_cnn",
      "version": "0.3.2",
      "provenance": [],
      "include_colab_link": true
    },
    "kernelspec": {
      "name": "python3",
      "display_name": "Python 3"
    },
    "accelerator": "TPU"
  },
  "cells": [
    {
      "cell_type": "markdown",
      "metadata": {
        "id": "view-in-github",
        "colab_type": "text"
      },
      "source": [
        "<a href=\"https://colab.research.google.com/github/pytholabsbot1/cats_dogs_classifier/blob/master/trained_cnn.ipynb\" target=\"_parent\"><img src=\"https://colab.research.google.com/assets/colab-badge.svg\" alt=\"Open In Colab\"/></a>"
      ]
    },
    {
      "metadata": {
        "id": "1q4kEdcob8Aj",
        "colab_type": "code",
        "colab": {
          "base_uri": "https://localhost:8080/",
          "height": 188
        },
        "outputId": "69fac2d6-e349-4ece-9bfe-1a037d4a3bb7"
      },
      "cell_type": "code",
      "source": [
        "!pip install web-assist"
      ],
      "execution_count": 3,
      "outputs": [
        {
          "output_type": "stream",
          "text": [
            "Collecting web-assist\n",
            "  Downloading https://files.pythonhosted.org/packages/57/e1/41a5bff47e10c690329ff8515e0d1452e20b15f0f94654755abceb74ed01/web_assist-0.0.4-py3-none-any.whl\n",
            "Requirement already satisfied: requests in /usr/local/lib/python3.6/dist-packages (from web-assist) (2.18.4)\n",
            "Requirement already satisfied: chardet<3.1.0,>=3.0.2 in /usr/local/lib/python3.6/dist-packages (from requests->web-assist) (3.0.4)\n",
            "Requirement already satisfied: idna<2.7,>=2.5 in /usr/local/lib/python3.6/dist-packages (from requests->web-assist) (2.6)\n",
            "Requirement already satisfied: urllib3<1.23,>=1.21.1 in /usr/local/lib/python3.6/dist-packages (from requests->web-assist) (1.22)\n",
            "Requirement already satisfied: certifi>=2017.4.17 in /usr/local/lib/python3.6/dist-packages (from requests->web-assist) (2018.10.15)\n",
            "Installing collected packages: web-assist\n",
            "Successfully installed web-assist-0.0.4\n"
          ],
          "name": "stdout"
        }
      ]
    },
    {
      "metadata": {
        "id": "T7cJh5I_cGQV",
        "colab_type": "code",
        "colab": {
          "base_uri": "https://localhost:8080/",
          "height": 34
        },
        "outputId": "bc6244f9-40d7-43cd-89bd-93d9fc061d78"
      },
      "cell_type": "code",
      "source": [
        "import webAssist as wb\n",
        "\n",
        "d = wb.Downloader('https://raw.githubusercontent.com/pytholabsbot1/cats_dogs_classifier/master/model','model')\n",
        "d.download()"
      ],
      "execution_count": 4,
      "outputs": [
        {
          "output_type": "stream",
          "text": [
            "creating a new file -- model.octet-stream\n"
          ],
          "name": "stdout"
        }
      ]
    },
    {
      "metadata": {
        "id": "FSDy1EGccKq2",
        "colab_type": "code",
        "colab": {
          "base_uri": "https://localhost:8080/",
          "height": 34
        },
        "outputId": "1f519e48-819c-4393-8bca-36d8cd19686d"
      },
      "cell_type": "code",
      "source": [
        "!ls "
      ],
      "execution_count": 8,
      "outputs": [
        {
          "output_type": "stream",
          "text": [
            "downlaoded_files  model  model1  sample_data\n"
          ],
          "name": "stdout"
        }
      ]
    },
    {
      "metadata": {
        "id": "COJuTERBddiU",
        "colab_type": "code",
        "colab": {
          "base_uri": "https://localhost:8080/",
          "height": 34
        },
        "outputId": "5bb1c643-07f0-44d7-84b5-5d990b8f08b7"
      },
      "cell_type": "code",
      "source": [
        "import tensorflow as tf\n",
        "\n",
        "model = tf.keras.models.load_model('model1')"
      ],
      "execution_count": 10,
      "outputs": [
        {
          "output_type": "stream",
          "text": [
            "WARNING:tensorflow:No training configuration found in save file: the model was *not* compiled. Compile it manually.\n"
          ],
          "name": "stdout"
        }
      ]
    },
    {
      "metadata": {
        "id": "ViIsUOqOdqgD",
        "colab_type": "code",
        "colab": {
          "base_uri": "https://localhost:8080/",
          "height": 34
        },
        "outputId": "65534670-2ec3-4a00-cfd4-17f3fc6d106d"
      },
      "cell_type": "code",
      "source": [
        "## download test image\n",
        "\n",
        "i = wb.imageSearch('dog')\n",
        "i.download(num=5)"
      ],
      "execution_count": 11,
      "outputs": [
        {
          "output_type": "stream",
          "text": [
            "https://www.google.co.in/search?q=dog&source=lnms&tbm=isch\n"
          ],
          "name": "stdout"
        }
      ]
    },
    {
      "metadata": {
        "id": "MITQpXoaeK1r",
        "colab_type": "code",
        "colab": {
          "base_uri": "https://localhost:8080/",
          "height": 50
        },
        "outputId": "7c4535d1-620c-4408-e2ce-f093be61a56d"
      },
      "cell_type": "code",
      "source": [
        "!ls"
      ],
      "execution_count": 12,
      "outputs": [
        {
          "output_type": "stream",
          "text": [
            "0.jpeg\t2.jpeg\t4.jpeg\t\t  model   sample_data\n",
            "1.jpeg\t3.jpeg\tdownlaoded_files  model1\n"
          ],
          "name": "stdout"
        }
      ]
    },
    {
      "metadata": {
        "id": "GyMC-WeEePCK",
        "colab_type": "code",
        "colab": {}
      },
      "cell_type": "code",
      "source": [
        "import numpy as np\n",
        "from keras.preprocessing import image\n",
        "\n",
        "test_image1 = image.load_img('0.jpeg', target_size = (64, 64))\n",
        "\n",
        "##3d\n",
        "test_image = image.img_to_array(test_image1)\n",
        "\n",
        "## convert 3d tensor to 4d\n",
        "test_image = np.expand_dims(test_image, axis = 0)\n"
      ],
      "execution_count": 0,
      "outputs": []
    },
    {
      "metadata": {
        "id": "s41EkJ5PfE7f",
        "colab_type": "code",
        "colab": {}
      },
      "cell_type": "code",
      "source": [
        "result = model.predict(test_image)\n",
        "# training_set.class_indices\n",
        "\n",
        "# if result[0][0] == 1:\n",
        "#     prediction = 'dog'\n",
        "# else:\n",
        "#     prediction = "
      ],
      "execution_count": 0,
      "outputs": []
    },
    {
      "metadata": {
        "id": "BR5tbrEgfSeO",
        "colab_type": "code",
        "colab": {
          "base_uri": "https://localhost:8080/",
          "height": 34
        },
        "outputId": "0ddfb924-8f90-45ca-a876-a4b33e662097"
      },
      "cell_type": "code",
      "source": [
        "result[0][0]"
      ],
      "execution_count": 18,
      "outputs": [
        {
          "output_type": "execute_result",
          "data": {
            "text/plain": [
              "1.0"
            ]
          },
          "metadata": {
            "tags": []
          },
          "execution_count": 18
        }
      ]
    },
    {
      "metadata": {
        "id": "cS8j7XU9fVzr",
        "colab_type": "code",
        "colab": {
          "base_uri": "https://localhost:8080/",
          "height": 81
        },
        "outputId": "059d49d1-517d-4a95-8511-74aa9032a04c"
      },
      "cell_type": "code",
      "source": [
        "test_image1"
      ],
      "execution_count": 21,
      "outputs": [
        {
          "output_type": "execute_result",
          "data": {
            "image/png": "[encoded data removed]",
            "text/plain": [
              "<PIL.Image.Image image mode=RGB size=64x64 at 0x7F4AEB70DDA0>"
            ]
          },
          "metadata": {
            "tags": []
          },
          "execution_count": 21
        }
      ]
    },
    {
      "metadata": {
        "id": "OVxrfo6_fvAh",
        "colab_type": "code",
        "colab": {}
      },
      "cell_type": "code",
      "source": [
        ""
      ],
      "execution_count": 0,
      "outputs": []
    }
  ]
}